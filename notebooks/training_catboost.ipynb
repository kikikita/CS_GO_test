{
 "cells": [
  {
   "cell_type": "code",
   "execution_count": 55,
   "metadata": {},
   "outputs": [],
   "source": [
    "import catboost"
   ]
  },
  {
   "cell_type": "code",
   "execution_count": 56,
   "metadata": {},
   "outputs": [],
   "source": [
    "import pandas as pd\n",
    "import numpy as np\n",
    "import os\n",
    "np.set_printoptions(precision=4)\n",
    "import catboost\n",
    "from catboost import *"
   ]
  },
  {
   "cell_type": "code",
   "execution_count": 5,
   "metadata": {},
   "outputs": [
    {
     "data": {
      "text/html": [
       "<div>\n",
       "<style scoped>\n",
       "    .dataframe tbody tr th:only-of-type {\n",
       "        vertical-align: middle;\n",
       "    }\n",
       "\n",
       "    .dataframe tbody tr th {\n",
       "        vertical-align: top;\n",
       "    }\n",
       "\n",
       "    .dataframe thead th {\n",
       "        text-align: right;\n",
       "    }\n",
       "</style>\n",
       "<table border=\"1\" class=\"dataframe\">\n",
       "  <thead>\n",
       "    <tr style=\"text-align: right;\">\n",
       "      <th></th>\n",
       "      <th>map_id</th>\n",
       "      <th>team1_id</th>\n",
       "      <th>team2_id</th>\n",
       "      <th>map_name</th>\n",
       "      <th>who_win</th>\n",
       "      <th>p1_total_kills</th>\n",
       "      <th>p1_headshots</th>\n",
       "      <th>p1_total_deaths</th>\n",
       "      <th>p1_kd_ratio</th>\n",
       "      <th>p1_damage_per_round</th>\n",
       "      <th>...</th>\n",
       "      <th>p5_rating</th>\n",
       "      <th>p5_kill_death</th>\n",
       "      <th>p5_kill_round</th>\n",
       "      <th>p5_rounds_with_kills</th>\n",
       "      <th>p5_kill_death_difference</th>\n",
       "      <th>p5_total_opening_kills</th>\n",
       "      <th>p5_total_opening_deaths</th>\n",
       "      <th>p5_opening_kill_ratio</th>\n",
       "      <th>p5_opening_kill_rating</th>\n",
       "      <th>p5_team_win_percent_after_first_kill</th>\n",
       "    </tr>\n",
       "  </thead>\n",
       "  <tbody>\n",
       "    <tr>\n",
       "      <th>0</th>\n",
       "      <td>289</td>\n",
       "      <td>6665</td>\n",
       "      <td>7718</td>\n",
       "      <td>Ancient</td>\n",
       "      <td>0</td>\n",
       "      <td>132</td>\n",
       "      <td>-10.0</td>\n",
       "      <td>176</td>\n",
       "      <td>-0.20</td>\n",
       "      <td>-0.6</td>\n",
       "      <td>...</td>\n",
       "      <td>0.31</td>\n",
       "      <td>0.46</td>\n",
       "      <td>0.19</td>\n",
       "      <td>135</td>\n",
       "      <td>89</td>\n",
       "      <td>34</td>\n",
       "      <td>13</td>\n",
       "      <td>0.62</td>\n",
       "      <td>0.12</td>\n",
       "      <td>7.4</td>\n",
       "    </tr>\n",
       "    <tr>\n",
       "      <th>1</th>\n",
       "      <td>715</td>\n",
       "      <td>4411</td>\n",
       "      <td>10577</td>\n",
       "      <td>Inferno</td>\n",
       "      <td>0</td>\n",
       "      <td>-345</td>\n",
       "      <td>-13.7</td>\n",
       "      <td>-317</td>\n",
       "      <td>-0.14</td>\n",
       "      <td>-3.1</td>\n",
       "      <td>...</td>\n",
       "      <td>-0.23</td>\n",
       "      <td>-0.51</td>\n",
       "      <td>-0.17</td>\n",
       "      <td>-11</td>\n",
       "      <td>-113</td>\n",
       "      <td>-17</td>\n",
       "      <td>24</td>\n",
       "      <td>-1.60</td>\n",
       "      <td>-0.38</td>\n",
       "      <td>-0.5</td>\n",
       "    </tr>\n",
       "    <tr>\n",
       "      <th>2</th>\n",
       "      <td>157</td>\n",
       "      <td>11251</td>\n",
       "      <td>9455</td>\n",
       "      <td>Nuke</td>\n",
       "      <td>1</td>\n",
       "      <td>293</td>\n",
       "      <td>13.0</td>\n",
       "      <td>182</td>\n",
       "      <td>0.31</td>\n",
       "      <td>25.0</td>\n",
       "      <td>...</td>\n",
       "      <td>-0.08</td>\n",
       "      <td>0.23</td>\n",
       "      <td>0.09</td>\n",
       "      <td>49</td>\n",
       "      <td>40</td>\n",
       "      <td>-21</td>\n",
       "      <td>-14</td>\n",
       "      <td>-0.39</td>\n",
       "      <td>-0.36</td>\n",
       "      <td>28.7</td>\n",
       "    </tr>\n",
       "    <tr>\n",
       "      <th>3</th>\n",
       "      <td>524</td>\n",
       "      <td>4608</td>\n",
       "      <td>7532</td>\n",
       "      <td>Mirage</td>\n",
       "      <td>0</td>\n",
       "      <td>108</td>\n",
       "      <td>-24.5</td>\n",
       "      <td>-55</td>\n",
       "      <td>0.54</td>\n",
       "      <td>1.5</td>\n",
       "      <td>...</td>\n",
       "      <td>0.25</td>\n",
       "      <td>0.28</td>\n",
       "      <td>0.21</td>\n",
       "      <td>152</td>\n",
       "      <td>79</td>\n",
       "      <td>59</td>\n",
       "      <td>36</td>\n",
       "      <td>0.59</td>\n",
       "      <td>0.36</td>\n",
       "      <td>7.8</td>\n",
       "    </tr>\n",
       "    <tr>\n",
       "      <th>4</th>\n",
       "      <td>404</td>\n",
       "      <td>8637</td>\n",
       "      <td>6667</td>\n",
       "      <td>Overpass</td>\n",
       "      <td>1</td>\n",
       "      <td>33</td>\n",
       "      <td>5.8</td>\n",
       "      <td>59</td>\n",
       "      <td>-0.09</td>\n",
       "      <td>-9.1</td>\n",
       "      <td>...</td>\n",
       "      <td>-0.03</td>\n",
       "      <td>-0.07</td>\n",
       "      <td>0.01</td>\n",
       "      <td>-44</td>\n",
       "      <td>-15</td>\n",
       "      <td>0</td>\n",
       "      <td>7</td>\n",
       "      <td>-0.82</td>\n",
       "      <td>0.08</td>\n",
       "      <td>0.0</td>\n",
       "    </tr>\n",
       "  </tbody>\n",
       "</table>\n",
       "<p>5 rows × 124 columns</p>\n",
       "</div>"
      ],
      "text/plain": [
       "   map_id  team1_id  team2_id  map_name  who_win  p1_total_kills  \\\n",
       "0     289      6665      7718   Ancient        0             132   \n",
       "1     715      4411     10577   Inferno        0            -345   \n",
       "2     157     11251      9455      Nuke        1             293   \n",
       "3     524      4608      7532    Mirage        0             108   \n",
       "4     404      8637      6667  Overpass        1              33   \n",
       "\n",
       "   p1_headshots  p1_total_deaths  p1_kd_ratio  p1_damage_per_round  ...  \\\n",
       "0         -10.0              176        -0.20                 -0.6  ...   \n",
       "1         -13.7             -317        -0.14                 -3.1  ...   \n",
       "2          13.0              182         0.31                 25.0  ...   \n",
       "3         -24.5              -55         0.54                  1.5  ...   \n",
       "4           5.8               59        -0.09                 -9.1  ...   \n",
       "\n",
       "   p5_rating  p5_kill_death  p5_kill_round  p5_rounds_with_kills  \\\n",
       "0       0.31           0.46           0.19                   135   \n",
       "1      -0.23          -0.51          -0.17                   -11   \n",
       "2      -0.08           0.23           0.09                    49   \n",
       "3       0.25           0.28           0.21                   152   \n",
       "4      -0.03          -0.07           0.01                   -44   \n",
       "\n",
       "   p5_kill_death_difference  p5_total_opening_kills  p5_total_opening_deaths  \\\n",
       "0                        89                      34                       13   \n",
       "1                      -113                     -17                       24   \n",
       "2                        40                     -21                      -14   \n",
       "3                        79                      59                       36   \n",
       "4                       -15                       0                        7   \n",
       "\n",
       "   p5_opening_kill_ratio  p5_opening_kill_rating  \\\n",
       "0                   0.62                    0.12   \n",
       "1                  -1.60                   -0.38   \n",
       "2                  -0.39                   -0.36   \n",
       "3                   0.59                    0.36   \n",
       "4                  -0.82                    0.08   \n",
       "\n",
       "   p5_team_win_percent_after_first_kill  \n",
       "0                                   7.4  \n",
       "1                                  -0.5  \n",
       "2                                  28.7  \n",
       "3                                   7.8  \n",
       "4                                   0.0  \n",
       "\n",
       "[5 rows x 124 columns]"
      ]
     },
     "execution_count": 5,
     "metadata": {},
     "output_type": "execute_result"
    }
   ],
   "source": [
    "train_feats = pd.read_csv('/home/kikikita/Рабочий стол/CS_GO_test/data/train_feats.csv')\n",
    "train_feats.head()"
   ]
  },
  {
   "cell_type": "code",
   "execution_count": 57,
   "metadata": {},
   "outputs": [],
   "source": [
    "X = train_feats.drop(['who_win','team1_id', 'team2_id', 'map_name'], axis=1).astype('string')\n",
    "y = train_feats.who_win.astype('int64')"
   ]
  },
  {
   "cell_type": "code",
   "execution_count": 58,
   "metadata": {},
   "outputs": [
    {
     "name": "stdout",
     "output_type": "stream",
     "text": [
      "[0, 1, 2, 3, 4, 5, 6, 7, 8, 9, 10, 11, 12, 13, 14, 15, 16, 17, 18, 19, 20, 21, 22, 23, 24, 25, 26, 27, 28, 29, 30, 31, 32, 33, 34, 35, 36, 37, 38, 39, 40, 41, 42, 43, 44, 45, 46, 47, 48, 49, 50, 51, 52, 53, 54, 55, 56, 57, 58, 59, 60, 61, 62, 63, 64, 65, 66, 67, 68, 69, 70, 71, 72, 73, 74, 75, 76, 77, 78, 79, 80, 81, 82, 83, 84, 85, 86, 87, 88, 89, 90, 91, 92, 93, 94, 95, 96, 97, 98, 99, 100, 101, 102, 103, 104, 105, 106, 107, 108, 109, 110, 111, 112, 113, 114, 115, 116, 117, 118, 119]\n"
     ]
    }
   ],
   "source": [
    "cat_features = list(range(0, X.shape[1]))\n",
    "print(cat_features)"
   ]
  },
  {
   "cell_type": "code",
   "execution_count": 59,
   "metadata": {},
   "outputs": [
    {
     "name": "stdout",
     "output_type": "stream",
     "text": [
      "Labels: {0, 1}\n",
      "Zero count = 386, One count = 327\n"
     ]
    }
   ],
   "source": [
    "print('Labels: {}'.format(set(y)))\n",
    "print('Zero count = {}, One count = {}'.format(len(y) - sum(y), sum(y)))"
   ]
  },
  {
   "cell_type": "code",
   "execution_count": 60,
   "metadata": {},
   "outputs": [],
   "source": [
    "from sklearn.model_selection import train_test_split\n",
    "X_train, X_validation, y_train, y_validation = train_test_split(X, y, train_size=0.8, random_state=1234)"
   ]
  },
  {
   "cell_type": "code",
   "execution_count": 61,
   "metadata": {},
   "outputs": [
    {
     "data": {
      "application/vnd.jupyter.widget-view+json": {
       "model_id": "3af33c817e4241af88faf8aeed7d84bb",
       "version_major": 2,
       "version_minor": 0
      },
      "text/plain": [
       "MetricVisualizer(layout=Layout(align_self='stretch', height='500px'))"
      ]
     },
     "metadata": {},
     "output_type": "display_data"
    },
    {
     "data": {
      "text/plain": [
       "<catboost.core.CatBoostClassifier at 0x7f2798540a30>"
      ]
     },
     "execution_count": 61,
     "metadata": {},
     "output_type": "execute_result"
    }
   ],
   "source": [
    "from catboost import CatBoostClassifier\n",
    "model = CatBoostClassifier(\n",
    "    iterations=50,\n",
    "    random_seed=63,\n",
    "    learning_rate=0.5,\n",
    "    custom_loss=['AUC', 'Accuracy']\n",
    ")\n",
    "model.fit(\n",
    "    X_train, y_train,\n",
    "    cat_features=cat_features,\n",
    "    eval_set=(X_validation, y_validation),\n",
    "    verbose=False,\n",
    "    plot=True\n",
    ")\n"
   ]
  },
  {
   "cell_type": "code",
   "execution_count": 62,
   "metadata": {},
   "outputs": [
    {
     "data": {
      "application/vnd.jupyter.widget-view+json": {
       "model_id": "a7ddb0c4b4f6400fa76b02259a1c1fda",
       "version_major": 2,
       "version_minor": 0
      },
      "text/plain": [
       "MetricVisualizer(layout=Layout(align_self='stretch', height='500px'))"
      ]
     },
     "metadata": {},
     "output_type": "display_data"
    },
    {
     "name": "stdout",
     "output_type": "stream",
     "text": [
      "Training on fold [0/5]\n",
      "\n",
      "bestTest = 0.686915266\n",
      "bestIteration = 4\n",
      "\n",
      "Training on fold [1/5]\n",
      "\n",
      "bestTest = 0.6838240974\n",
      "bestIteration = 9\n",
      "\n",
      "Training on fold [2/5]\n",
      "\n",
      "bestTest = 0.6729171371\n",
      "bestIteration = 12\n",
      "\n",
      "Training on fold [3/5]\n",
      "\n",
      "bestTest = 0.6906424344\n",
      "bestIteration = 1\n",
      "\n",
      "Training on fold [4/5]\n",
      "\n",
      "bestTest = 0.6931353116\n",
      "bestIteration = 8\n",
      "\n"
     ]
    }
   ],
   "source": [
    "from catboost import cv\n",
    "\n",
    "params = {}\n",
    "params['loss_function'] = 'Logloss'\n",
    "params['iterations'] = 100\n",
    "params['custom_loss'] = 'AUC'\n",
    "params['random_seed'] = 63\n",
    "params['learning_rate'] = 0.1\n",
    "\n",
    "cv_data = cv(\n",
    "    params = params, #параметры модели\n",
    "    pool = Pool(X, label=y, cat_features=cat_features), #датасет на котором хотим обучаться\n",
    "    fold_count=5, #число фолдов, на которые бьем датасет(сколько будет одновременных обучений)\n",
    "    shuffle=True, #перемешивание датасета перед разбиением\n",
    "    partition_random_seed=0,\n",
    "    plot=True,\n",
    "    stratified=False,\n",
    "    verbose=False\n",
    ")"
   ]
  },
  {
   "cell_type": "code",
   "execution_count": 63,
   "metadata": {},
   "outputs": [
    {
     "data": {
      "text/html": [
       "<div>\n",
       "<style scoped>\n",
       "    .dataframe tbody tr th:only-of-type {\n",
       "        vertical-align: middle;\n",
       "    }\n",
       "\n",
       "    .dataframe tbody tr th {\n",
       "        vertical-align: top;\n",
       "    }\n",
       "\n",
       "    .dataframe thead th {\n",
       "        text-align: right;\n",
       "    }\n",
       "</style>\n",
       "<table border=\"1\" class=\"dataframe\">\n",
       "  <thead>\n",
       "    <tr style=\"text-align: right;\">\n",
       "      <th></th>\n",
       "      <th>iterations</th>\n",
       "      <th>test-Logloss-mean</th>\n",
       "      <th>test-Logloss-std</th>\n",
       "      <th>train-Logloss-mean</th>\n",
       "      <th>train-Logloss-std</th>\n",
       "      <th>test-AUC-mean</th>\n",
       "      <th>test-AUC-std</th>\n",
       "    </tr>\n",
       "  </thead>\n",
       "  <tbody>\n",
       "    <tr>\n",
       "      <th>0</th>\n",
       "      <td>0</td>\n",
       "      <td>0.692705</td>\n",
       "      <td>0.001429</td>\n",
       "      <td>0.684247</td>\n",
       "      <td>0.004320</td>\n",
       "      <td>0.503013</td>\n",
       "      <td>0.031527</td>\n",
       "    </tr>\n",
       "    <tr>\n",
       "      <th>1</th>\n",
       "      <td>1</td>\n",
       "      <td>0.691488</td>\n",
       "      <td>0.001893</td>\n",
       "      <td>0.677516</td>\n",
       "      <td>0.003980</td>\n",
       "      <td>0.529100</td>\n",
       "      <td>0.049112</td>\n",
       "    </tr>\n",
       "    <tr>\n",
       "      <th>2</th>\n",
       "      <td>2</td>\n",
       "      <td>0.690584</td>\n",
       "      <td>0.003207</td>\n",
       "      <td>0.670715</td>\n",
       "      <td>0.005632</td>\n",
       "      <td>0.545246</td>\n",
       "      <td>0.045885</td>\n",
       "    </tr>\n",
       "    <tr>\n",
       "      <th>3</th>\n",
       "      <td>3</td>\n",
       "      <td>0.690054</td>\n",
       "      <td>0.003492</td>\n",
       "      <td>0.665470</td>\n",
       "      <td>0.006017</td>\n",
       "      <td>0.544553</td>\n",
       "      <td>0.043795</td>\n",
       "    </tr>\n",
       "    <tr>\n",
       "      <th>4</th>\n",
       "      <td>4</td>\n",
       "      <td>0.688603</td>\n",
       "      <td>0.004925</td>\n",
       "      <td>0.658696</td>\n",
       "      <td>0.005694</td>\n",
       "      <td>0.547759</td>\n",
       "      <td>0.048481</td>\n",
       "    </tr>\n",
       "  </tbody>\n",
       "</table>\n",
       "</div>"
      ],
      "text/plain": [
       "   iterations  test-Logloss-mean  test-Logloss-std  train-Logloss-mean  \\\n",
       "0           0           0.692705          0.001429            0.684247   \n",
       "1           1           0.691488          0.001893            0.677516   \n",
       "2           2           0.690584          0.003207            0.670715   \n",
       "3           3           0.690054          0.003492            0.665470   \n",
       "4           4           0.688603          0.004925            0.658696   \n",
       "\n",
       "   train-Logloss-std  test-AUC-mean  test-AUC-std  \n",
       "0           0.004320       0.503013      0.031527  \n",
       "1           0.003980       0.529100      0.049112  \n",
       "2           0.005632       0.545246      0.045885  \n",
       "3           0.006017       0.544553      0.043795  \n",
       "4           0.005694       0.547759      0.048481  "
      ]
     },
     "execution_count": 63,
     "metadata": {},
     "output_type": "execute_result"
    }
   ],
   "source": [
    "cv_data.head()"
   ]
  },
  {
   "cell_type": "code",
   "execution_count": 64,
   "metadata": {},
   "outputs": [
    {
     "name": "stdout",
     "output_type": "stream",
     "text": [
      "Best validation Logloss score, not stratified: 0.6881±0.0086 on step 9\n"
     ]
    }
   ],
   "source": [
    "best_value = np.min(cv_data['test-Logloss-mean'])\n",
    "best_iter = np.argmin(cv_data['test-Logloss-mean'])\n",
    "#выводит значение лучшего Logloss + std на шаге\n",
    "print('Best validation Logloss score, not stratified: {:.4f}±{:.4f} on step {}'.format(\n",
    "    best_value,\n",
    "    cv_data['test-Logloss-std'][best_iter],\n",
    "    best_iter)\n",
    ")"
   ]
  },
  {
   "cell_type": "code",
   "execution_count": 65,
   "metadata": {},
   "outputs": [
    {
     "data": {
      "application/vnd.jupyter.widget-view+json": {
       "model_id": "bc4d0570a3ab4c1db697e50e8300baec",
       "version_major": 2,
       "version_minor": 0
      },
      "text/plain": [
       "MetricVisualizer(layout=Layout(align_self='stretch', height='500px'))"
      ]
     },
     "metadata": {},
     "output_type": "display_data"
    },
    {
     "data": {
      "text/plain": [
       "<catboost.core.CatBoostClassifier at 0x7f2766ca7370>"
      ]
     },
     "execution_count": 65,
     "metadata": {},
     "output_type": "execute_result"
    }
   ],
   "source": [
    "model_with_early_stop = CatBoostClassifier(\n",
    "    iterations=100,\n",
    "    random_seed=63,\n",
    "    learning_rate=0.1,\n",
    "    early_stopping_rounds=20 #если на протяжении 20 итераций, ошибка не уменьшается - остановка обучения\n",
    ")\n",
    "model_with_early_stop.fit(\n",
    "    X_train, y_train,\n",
    "    cat_features=cat_features,\n",
    "    eval_set=(X_validation, y_validation),\n",
    "    verbose=False,\n",
    "    plot=True\n",
    ")"
   ]
  },
  {
   "cell_type": "code",
   "execution_count": 66,
   "metadata": {},
   "outputs": [
    {
     "data": {
      "application/vnd.jupyter.widget-view+json": {
       "model_id": "b02402d3cb2f4965a1b24d9059ef0344",
       "version_major": 2,
       "version_minor": 0
      },
      "text/plain": [
       "MetricVisualizer(layout=Layout(align_self='stretch', height='500px'))"
      ]
     },
     "metadata": {},
     "output_type": "display_data"
    },
    {
     "data": {
      "text/plain": [
       "<catboost.core.CatBoostClassifier at 0x7f2766ca64a0>"
      ]
     },
     "execution_count": 66,
     "metadata": {},
     "output_type": "execute_result"
    }
   ],
   "source": [
    "model_with_early_stop = CatBoostClassifier(\n",
    "    eval_metric='AUC', #метрика по которой происходит остановка обучения\n",
    "    iterations=100,\n",
    "    random_seed=63,\n",
    "    learning_rate=0.1,\n",
    "    early_stopping_rounds=20\n",
    ")\n",
    "model_with_early_stop.fit(\n",
    "    X_train, y_train,\n",
    "    cat_features=cat_features,\n",
    "    eval_set=(X_validation, y_validation),\n",
    "    verbose=False,\n",
    "    plot=True\n",
    ")"
   ]
  },
  {
   "cell_type": "code",
   "execution_count": 67,
   "metadata": {},
   "outputs": [
    {
     "data": {
      "application/vnd.jupyter.widget-view+json": {
       "model_id": "3843c1ae02634abda6a55a714efd5850",
       "version_major": 2,
       "version_minor": 0
      },
      "text/plain": [
       "MetricVisualizer(layout=Layout(align_self='stretch', height='500px'))"
      ]
     },
     "metadata": {},
     "output_type": "display_data"
    },
    {
     "data": {
      "text/plain": [
       "<catboost.core.CatBoostClassifier at 0x7f2766ca5fc0>"
      ]
     },
     "execution_count": 67,
     "metadata": {},
     "output_type": "execute_result"
    }
   ],
   "source": [
    "model = CatBoostClassifier(\n",
    "    random_seed=63,\n",
    "    iterations=100,\n",
    "    learning_rate=0.1,\n",
    ")\n",
    "model.fit(\n",
    "    X_train, y_train,\n",
    "    cat_features=cat_features,\n",
    "    verbose=False,\n",
    "    plot=True\n",
    ")"
   ]
  },
  {
   "cell_type": "code",
   "execution_count": 68,
   "metadata": {},
   "outputs": [],
   "source": [
    "from catboost.utils import get_roc_curve\n",
    "import sklearn\n",
    "from sklearn import metrics\n",
    "\n",
    "eval_pool = Pool(X_validation, y_validation, cat_features=cat_features)\n",
    "curve = get_roc_curve(model, eval_pool) #возвращает ROC кривую\n",
    "(fpr, tpr, thresholds) = curve\n",
    "roc_auc = sklearn.metrics.auc(fpr, tpr)"
   ]
  },
  {
   "cell_type": "code",
   "execution_count": 69,
   "metadata": {},
   "outputs": [
    {
     "data": {
      "image/png": "[encoded data removed]",
      "text/plain": [
       "<Figure size 1600x800 with 1 Axes>"
      ]
     },
     "metadata": {},
     "output_type": "display_data"
    }
   ],
   "source": [
    "import matplotlib.pyplot as plt\n",
    "\n",
    "plt.figure(figsize=(16, 8))\n",
    "lw = 2\n",
    "\n",
    "plt.plot(fpr, tpr, color='darkorange',\n",
    "         lw=lw, label='ROC curve (area = %0.2f)' % roc_auc, alpha=0.5)\n",
    "\n",
    "plt.plot([0, 1], [0, 1], color='navy', lw=lw, linestyle='--', alpha=0.5)\n",
    "\n",
    "plt.xlim([0.0, 1.0])\n",
    "plt.ylim([0.0, 1.05])\n",
    "plt.xticks(fontsize=16)\n",
    "plt.yticks(fontsize=16)\n",
    "plt.grid(True)\n",
    "plt.xlabel('False Positive Rate', fontsize=16)\n",
    "plt.ylabel('True Positive Rate', fontsize=16)\n",
    "plt.title('Receiver operating characteristic', fontsize=20)\n",
    "plt.legend(loc=\"lower right\", fontsize=16)\n",
    "plt.show()"
   ]
  },
  {
   "cell_type": "code",
   "execution_count": 70,
   "metadata": {},
   "outputs": [],
   "source": [
    "from catboost.utils import get_fpr_curve\n",
    "from catboost.utils import get_fnr_curve\n",
    "\n",
    "(thresholds, fpr) = get_fpr_curve(curve=curve)\n",
    "(thresholds, fnr) = get_fnr_curve(curve=curve)"
   ]
  },
  {
   "cell_type": "code",
   "execution_count": 71,
   "metadata": {},
   "outputs": [
    {
     "data": {
      "image/png": "[encoded data removed]",
      "text/plain": [
       "<Figure size 1600x800 with 1 Axes>"
      ]
     },
     "metadata": {},
     "output_type": "display_data"
    }
   ],
   "source": [
    "plt.figure(figsize=(16, 8))\n",
    "lw = 2\n",
    "\n",
    "plt.plot(thresholds, fpr, color='blue', lw=lw, label='FPR', alpha=0.5)\n",
    "plt.plot(thresholds, fnr, color='green', lw=lw, label='FNR', alpha=0.5)\n",
    "\n",
    "plt.xlim([0.0, 1.0])\n",
    "plt.ylim([0.0, 1.05])\n",
    "plt.xticks(fontsize=16)\n",
    "plt.yticks(fontsize=16)\n",
    "plt.grid(True)\n",
    "plt.xlabel('Threshold', fontsize=16)\n",
    "plt.ylabel('Error Rate', fontsize=16)\n",
    "plt.title('FPR-FNR curves', fontsize=20)\n",
    "plt.legend(loc=\"lower left\", fontsize=16)\n",
    "plt.show()"
   ]
  },
  {
   "cell_type": "code",
   "execution_count": 72,
   "metadata": {},
   "outputs": [
    {
     "name": "stdout",
     "output_type": "stream",
     "text": [
      "0.0\n",
      "0.633730861348851\n"
     ]
    }
   ],
   "source": [
    "from catboost.utils import select_threshold\n",
    "\n",
    "print(select_threshold(model=model, data=eval_pool, FNR=0.01)) #хотим ошибаться в 1% объектов положительного класса\n",
    "print(select_threshold(model=model, data=eval_pool, FPR=0.01)) #хотим меньше ошибаться в определении объектов отрицательного класса"
   ]
  },
  {
   "cell_type": "code",
   "execution_count": 40,
   "metadata": {},
   "outputs": [
    {
     "name": "stdout",
     "output_type": "stream",
     "text": [
      "[[0.4325 0.5675]\n",
      " [0.5269 0.4731]\n",
      " [0.6397 0.3603]\n",
      " [0.4421 0.5579]\n",
      " [0.4459 0.5541]\n",
      " [0.5051 0.4949]\n",
      " [0.568  0.432 ]\n",
      " [0.6465 0.3535]\n",
      " [0.6704 0.3296]\n",
      " [0.5313 0.4687]\n",
      " [0.6469 0.3531]\n",
      " [0.4527 0.5473]\n",
      " [0.5449 0.4551]\n",
      " [0.4312 0.5688]\n",
      " [0.7828 0.2172]\n",
      " [0.5745 0.4255]\n",
      " [0.6373 0.3627]\n",
      " [0.407  0.593 ]\n",
      " [0.5656 0.4344]\n",
      " [0.4863 0.5137]\n",
      " [0.4764 0.5236]\n",
      " [0.5813 0.4187]\n",
      " [0.5246 0.4754]\n",
      " [0.6581 0.3419]\n",
      " [0.5623 0.4377]\n",
      " [0.5869 0.4131]\n",
      " [0.7379 0.2621]\n",
      " [0.5565 0.4435]\n",
      " [0.6006 0.3994]\n",
      " [0.4059 0.5941]\n",
      " [0.5264 0.4736]\n",
      " [0.7825 0.2175]\n",
      " [0.5658 0.4342]\n",
      " [0.5224 0.4776]\n",
      " [0.6582 0.3418]\n",
      " [0.401  0.599 ]\n",
      " [0.6983 0.3017]\n",
      " [0.4064 0.5936]\n",
      " [0.6239 0.3761]\n",
      " [0.5891 0.4109]\n",
      " [0.3507 0.6493]\n",
      " [0.6104 0.3896]\n",
      " [0.554  0.446 ]\n",
      " [0.5658 0.4342]\n",
      " [0.5955 0.4045]\n",
      " [0.6409 0.3591]\n",
      " [0.5529 0.4471]\n",
      " [0.6127 0.3873]\n",
      " [0.6177 0.3823]\n",
      " [0.5846 0.4154]\n",
      " [0.4842 0.5158]\n",
      " [0.6497 0.3503]\n",
      " [0.6269 0.3731]\n",
      " [0.7098 0.2902]\n",
      " [0.4593 0.5407]\n",
      " [0.4569 0.5431]\n",
      " [0.3909 0.6091]\n",
      " [0.5053 0.4947]\n",
      " [0.4953 0.5047]\n",
      " [0.5836 0.4164]\n",
      " [0.7174 0.2826]\n",
      " [0.6099 0.3901]\n",
      " [0.7503 0.2497]\n",
      " [0.5695 0.4305]\n",
      " [0.677  0.323 ]\n",
      " [0.5921 0.4079]\n",
      " [0.5006 0.4994]\n",
      " [0.4654 0.5346]\n",
      " [0.6088 0.3912]\n",
      " [0.5548 0.4452]\n",
      " [0.6798 0.3202]\n",
      " [0.612  0.388 ]\n",
      " [0.7514 0.2486]\n",
      " [0.4717 0.5283]\n",
      " [0.5004 0.4996]\n",
      " [0.5195 0.4805]\n",
      " [0.6832 0.3168]\n",
      " [0.6048 0.3952]\n",
      " [0.7079 0.2921]\n",
      " [0.575  0.425 ]\n",
      " [0.4785 0.5215]\n",
      " [0.6835 0.3165]\n",
      " [0.8881 0.1119]\n",
      " [0.71   0.29  ]\n",
      " [0.4774 0.5226]\n",
      " [0.2845 0.7155]\n",
      " [0.6325 0.3675]\n",
      " [0.7874 0.2126]\n",
      " [0.5122 0.4878]\n",
      " [0.6247 0.3753]\n",
      " [0.8199 0.1801]\n",
      " [0.6915 0.3085]\n",
      " [0.5367 0.4633]\n",
      " [0.6838 0.3162]\n",
      " [0.6346 0.3654]\n",
      " [0.4466 0.5534]\n",
      " [0.497  0.503 ]\n",
      " [0.4656 0.5344]\n",
      " [0.5532 0.4468]\n",
      " [0.7814 0.2186]\n",
      " [0.4725 0.5275]\n",
      " [0.4315 0.5685]\n",
      " [0.5067 0.4933]\n",
      " [0.58   0.42  ]\n",
      " [0.5306 0.4694]\n",
      " [0.4238 0.5762]\n",
      " [0.4951 0.5049]\n",
      " [0.647  0.353 ]\n",
      " [0.5937 0.4063]\n",
      " [0.7806 0.2194]\n",
      " [0.6492 0.3508]\n",
      " [0.3819 0.6181]\n",
      " [0.4593 0.5407]\n",
      " [0.6364 0.3636]\n",
      " [0.4778 0.5222]\n",
      " [0.617  0.383 ]\n",
      " [0.5558 0.4442]\n",
      " [0.5289 0.4711]\n",
      " [0.6777 0.3223]\n",
      " [0.6625 0.3375]\n",
      " [0.5584 0.4416]\n",
      " [0.4875 0.5125]\n",
      " [0.6118 0.3882]\n",
      " [0.529  0.471 ]\n",
      " [0.6528 0.3472]\n",
      " [0.7363 0.2637]\n",
      " [0.6917 0.3083]\n",
      " [0.577  0.423 ]\n",
      " [0.575  0.425 ]\n",
      " [0.5461 0.4539]\n",
      " [0.4399 0.5601]\n",
      " [0.5822 0.4178]\n",
      " [0.6294 0.3706]\n",
      " [0.5844 0.4156]\n",
      " [0.8009 0.1991]\n",
      " [0.5757 0.4243]\n",
      " [0.6623 0.3377]\n",
      " [0.6411 0.3589]\n",
      " [0.6336 0.3664]\n",
      " [0.52   0.48  ]\n",
      " [0.8322 0.1678]\n",
      " [0.7206 0.2794]\n",
      " [0.4455 0.5545]]\n"
     ]
    }
   ],
   "source": [
    "print(model.predict_proba(X=X_validation))"
   ]
  },
  {
   "cell_type": "code",
   "execution_count": 24,
   "metadata": {},
   "outputs": [
    {
     "name": "stdout",
     "output_type": "stream",
     "text": [
      "[1 0 0 1 1 0 0 0 0 0 0 1 0 1 0 0 0 1 0 1 1 0 0 0 0 0 0 0 0 1 0 0 0 0 0 1 0\n",
      " 1 0 0 1 0 0 0 0 0 0 0 0 0 1 0 0 0 1 1 1 0 1 0 0 0 0 0 0 0 0 1 0 0 0 0 0 1\n",
      " 0 0 0 0 0 0 1 0 0 0 1 1 0 0 0 0 0 0 0 0 0 1 1 1 0 0 1 1 0 0 0 1 1 0 0 0 0\n",
      " 1 1 0 1 0 0 0 0 0 0 1 0 0 0 0 0 0 0 0 1 0 0 0 0 0 0 0 0 0 0 0 1]\n"
     ]
    }
   ],
   "source": [
    "print(model.predict(data=X_validation))"
   ]
  },
  {
   "cell_type": "code",
   "execution_count": 44,
   "metadata": {},
   "outputs": [
    {
     "name": "stdout",
     "output_type": "stream",
     "text": [
      "0:\tlearn: 0.6867963\ttotal: 9.15ms\tremaining: 906ms\n",
      "50:\tlearn: 0.4420341\ttotal: 471ms\tremaining: 452ms\n",
      "99:\tlearn: 0.2727015\ttotal: 848ms\tremaining: 0us\n"
     ]
    },
    {
     "data": {
      "text/plain": [
       "<catboost.core.CatBoostClassifier at 0x7f27985d7a60>"
      ]
     },
     "execution_count": 44,
     "metadata": {},
     "output_type": "execute_result"
    }
   ],
   "source": [
    "model = CatBoostClassifier(\n",
    "    random_seed=63,\n",
    "    iterations=100,\n",
    "    learning_rate=0.1,\n",
    ")\n",
    "model.fit(\n",
    "    X_train, y_train,\n",
    "    cat_features=cat_features,\n",
    "    verbose=50\n",
    ")"
   ]
  },
  {
   "cell_type": "code",
   "execution_count": 45,
   "metadata": {},
   "outputs": [
    {
     "data": {
      "application/vnd.jupyter.widget-view+json": {
       "model_id": "58fc5e61e6a84ad4b6c4b2865583f404",
       "version_major": 2,
       "version_minor": 0
      },
      "text/plain": [
       "MetricVisualizer(layout=Layout(align_self='stretch', height='500px'))"
      ]
     },
     "metadata": {},
     "output_type": "display_data"
    }
   ],
   "source": [
    "metrics = model.eval_metrics(\n",
    "    data=Pool(X, label=y, cat_features=cat_features),\n",
    "    metrics=['Logloss','AUC', 'F1'],\n",
    "    ntree_start=0,\n",
    "    ntree_end=0,\n",
    "    eval_period=1,\n",
    "    plot=True\n",
    ")"
   ]
  },
  {
   "cell_type": "code",
   "execution_count": 73,
   "metadata": {},
   "outputs": [
    {
     "data": {
      "text/html": [
       "<div>\n",
       "<style scoped>\n",
       "    .dataframe tbody tr th:only-of-type {\n",
       "        vertical-align: middle;\n",
       "    }\n",
       "\n",
       "    .dataframe tbody tr th {\n",
       "        vertical-align: top;\n",
       "    }\n",
       "\n",
       "    .dataframe thead th {\n",
       "        text-align: right;\n",
       "    }\n",
       "</style>\n",
       "<table border=\"1\" class=\"dataframe\">\n",
       "  <thead>\n",
       "    <tr style=\"text-align: right;\">\n",
       "      <th></th>\n",
       "      <th>Feature Id</th>\n",
       "      <th>Importances</th>\n",
       "    </tr>\n",
       "  </thead>\n",
       "  <tbody>\n",
       "    <tr>\n",
       "      <th>0</th>\n",
       "      <td>p3_deaths_per_round</td>\n",
       "      <td>4.141913</td>\n",
       "    </tr>\n",
       "    <tr>\n",
       "      <th>1</th>\n",
       "      <td>p3_total_opening_kills</td>\n",
       "      <td>3.909201</td>\n",
       "    </tr>\n",
       "    <tr>\n",
       "      <th>2</th>\n",
       "      <td>p1_saved_by_teammate_per_round</td>\n",
       "      <td>3.096698</td>\n",
       "    </tr>\n",
       "    <tr>\n",
       "      <th>3</th>\n",
       "      <td>p1_deaths_per_round</td>\n",
       "      <td>3.040360</td>\n",
       "    </tr>\n",
       "    <tr>\n",
       "      <th>4</th>\n",
       "      <td>p3_total_opening_deaths</td>\n",
       "      <td>2.869791</td>\n",
       "    </tr>\n",
       "    <tr>\n",
       "      <th>...</th>\n",
       "      <td>...</td>\n",
       "      <td>...</td>\n",
       "    </tr>\n",
       "    <tr>\n",
       "      <th>115</th>\n",
       "      <td>p5_kill_round</td>\n",
       "      <td>0.000000</td>\n",
       "    </tr>\n",
       "    <tr>\n",
       "      <th>116</th>\n",
       "      <td>p5_total_opening_kills</td>\n",
       "      <td>0.000000</td>\n",
       "    </tr>\n",
       "    <tr>\n",
       "      <th>117</th>\n",
       "      <td>p5_opening_kill_ratio</td>\n",
       "      <td>0.000000</td>\n",
       "    </tr>\n",
       "    <tr>\n",
       "      <th>118</th>\n",
       "      <td>p5_opening_kill_rating</td>\n",
       "      <td>0.000000</td>\n",
       "    </tr>\n",
       "    <tr>\n",
       "      <th>119</th>\n",
       "      <td>p5_team_win_percent_after_first_kill</td>\n",
       "      <td>0.000000</td>\n",
       "    </tr>\n",
       "  </tbody>\n",
       "</table>\n",
       "<p>120 rows × 2 columns</p>\n",
       "</div>"
      ],
      "text/plain": [
       "                               Feature Id  Importances\n",
       "0                     p3_deaths_per_round     4.141913\n",
       "1                  p3_total_opening_kills     3.909201\n",
       "2          p1_saved_by_teammate_per_round     3.096698\n",
       "3                     p1_deaths_per_round     3.040360\n",
       "4                 p3_total_opening_deaths     2.869791\n",
       "..                                    ...          ...\n",
       "115                         p5_kill_round     0.000000\n",
       "116                p5_total_opening_kills     0.000000\n",
       "117                 p5_opening_kill_ratio     0.000000\n",
       "118                p5_opening_kill_rating     0.000000\n",
       "119  p5_team_win_percent_after_first_kill     0.000000\n",
       "\n",
       "[120 rows x 2 columns]"
      ]
     },
     "execution_count": 73,
     "metadata": {},
     "output_type": "execute_result"
    }
   ],
   "source": [
    "model.get_feature_importance(prettified=True)"
   ]
  },
  {
   "cell_type": "code",
   "execution_count": 47,
   "metadata": {},
   "outputs": [
    {
     "data": {
      "application/vnd.jupyter.widget-view+json": {
       "model_id": "1050c7224e354079b7bdf095e9a316a5",
       "version_major": 2,
       "version_minor": 0
      },
      "text/plain": [
       "MetricVisualizer(layout=Layout(align_self='stretch', height='500px'))"
      ]
     },
     "metadata": {},
     "output_type": "display_data"
    },
    {
     "data": {
      "text/plain": [
       "<catboost.core.CatBoostClassifier at 0x7f2766bc7f40>"
      ]
     },
     "execution_count": 47,
     "metadata": {},
     "output_type": "execute_result"
    }
   ],
   "source": [
    "from catboost import CatBoost\n",
    "fast_model = CatBoostClassifier(\n",
    "    random_seed=63,\n",
    "    iterations=100,\n",
    "    learning_rate=0.1,\n",
    "    custom_loss=['AUC', 'Accuracy', 'F1'],\n",
    "    boosting_type='Plain', #тип бустинга\n",
    "    bootstrap_type='Bernoulli', #тип сэмплирования\n",
    "    subsample=0.5, #процент объектов, которые будут использоваться при построении дерева\n",
    "    one_hot_max_size=20, \n",
    "    rsm=0.5,\n",
    "    leaf_estimation_iterations=5, #5 раз считаем значения одного и того же дерева в листьях\n",
    "    max_ctr_complexity=1) #комбинации фичей\n",
    "    \n",
    "fast_model.fit(\n",
    "    X_train, y_train,\n",
    "    cat_features=cat_features,\n",
    "    eval_set=(X_validation, y_validation),\n",
    "    verbose=False,\n",
    "    plot=True\n",
    ")\n"
   ]
  },
  {
   "cell_type": "code",
   "execution_count": 48,
   "metadata": {},
   "outputs": [
    {
     "data": {
      "application/vnd.jupyter.widget-view+json": {
       "model_id": "2210dc72b6e64d919ed895ff6a5c610e",
       "version_major": 2,
       "version_minor": 0
      },
      "text/plain": [
       "MetricVisualizer(layout=Layout(align_self='stretch', height='500px'))"
      ]
     },
     "metadata": {},
     "output_type": "display_data"
    },
    {
     "data": {
      "text/plain": [
       "<catboost.core.CatBoostClassifier at 0x7f27985d6aa0>"
      ]
     },
     "execution_count": 48,
     "metadata": {},
     "output_type": "execute_result"
    }
   ],
   "source": [
    "tunned_model = CatBoostClassifier(\n",
    "    random_seed=63,\n",
    "    iterations=1000,\n",
    "    learning_rate=0.03,\n",
    "    l2_leaf_reg=3,\n",
    "    bagging_temperature=1,\n",
    "    random_strength=1,\n",
    "    one_hot_max_size=2,\n",
    "    leaf_estimation_method='Newton'\n",
    ")\n",
    "tunned_model.fit(\n",
    "    X_train, y_train,\n",
    "    cat_features=cat_features,\n",
    "    verbose=False,\n",
    "    eval_set=(X_validation, y_validation),\n",
    "    plot=True\n",
    ")\n"
   ]
  },
  {
   "cell_type": "code",
   "execution_count": 50,
   "metadata": {},
   "outputs": [
    {
     "name": "stdout",
     "output_type": "stream",
     "text": [
      "Learning rate set to 0.5\n",
      "0:\tlearn: 0.6747422\ttotal: 7.54ms\tremaining: 0us\n"
     ]
    },
    {
     "data": {
      "text/plain": [
       "<catboost.core.CatBoostClassifier at 0x7f2766a16b90>"
      ]
     },
     "execution_count": 50,
     "metadata": {},
     "output_type": "execute_result"
    }
   ],
   "source": [
    "best_model = CatBoostClassifier(\n",
    "    random_seed=63,\n",
    "    iterations=int(tunned_model.tree_count_ * 1.2),\n",
    ")\n",
    "best_model.fit(\n",
    "    X, y,\n",
    "    cat_features=cat_features,\n",
    "    verbose=100\n",
    ")"
   ]
  },
  {
   "cell_type": "code",
   "execution_count": 51,
   "metadata": {},
   "outputs": [
    {
     "data": {
      "application/vnd.jupyter.widget-view+json": {
       "model_id": "2717a9b529fe40d6b6630b7d1afa0626",
       "version_major": 2,
       "version_minor": 0
      },
      "text/plain": [
       "MetricVisualizer(layout=Layout(align_self='stretch', height='500px'))"
      ]
     },
     "metadata": {},
     "output_type": "display_data"
    }
   ],
   "source": [
    "metrics = best_model.eval_metrics(\n",
    "    data=Pool(X, label=y, cat_features=cat_features),\n",
    "    metrics=['Logloss','AUC', 'F1', 'Accuracy'],\n",
    "    ntree_start=0,\n",
    "    ntree_end=0,\n",
    "    eval_period=1,\n",
    "    plot=True\n",
    ")"
   ]
  },
  {
   "cell_type": "code",
   "execution_count": 84,
   "metadata": {},
   "outputs": [
    {
     "name": "stdout",
     "output_type": "stream",
     "text": [
      "Predictoins:\n",
      "[[0.8043 0.1957]\n",
      " [0.3954 0.6046]\n",
      " [0.5007 0.4993]\n",
      " [0.3931 0.6069]\n",
      " [0.7943 0.2057]\n",
      " [0.3762 0.6238]\n",
      " [0.676  0.324 ]\n",
      " [0.5465 0.4535]\n",
      " [0.4105 0.5895]\n",
      " [0.8069 0.1931]\n",
      " [0.8055 0.1945]\n",
      " [0.6241 0.3759]\n",
      " [0.438  0.562 ]\n",
      " [0.6355 0.3645]\n",
      " [0.5939 0.4061]\n",
      " [0.3933 0.6067]\n",
      " [0.4103 0.5897]\n",
      " [0.5538 0.4462]\n",
      " [0.4758 0.5242]\n",
      " [0.6783 0.3217]\n",
      " [0.4124 0.5876]\n",
      " [0.6189 0.3811]\n",
      " [0.5435 0.4565]\n",
      " [0.686  0.314 ]\n",
      " [0.1826 0.8174]\n",
      " [0.5244 0.4756]\n",
      " [0.4699 0.5301]\n",
      " [0.5906 0.4094]\n",
      " [0.8819 0.1181]\n",
      " [0.3464 0.6536]\n",
      " [0.676  0.324 ]\n",
      " [0.5133 0.4867]\n",
      " [0.7599 0.2401]\n",
      " [0.5464 0.4536]\n",
      " [0.5536 0.4464]\n",
      " [0.3156 0.6844]\n",
      " [0.3862 0.6138]\n",
      " [0.4036 0.5964]\n",
      " [0.3902 0.6098]\n",
      " [0.7365 0.2635]\n",
      " [0.4474 0.5526]\n",
      " [0.8899 0.1101]\n",
      " [0.8844 0.1156]\n",
      " [0.7351 0.2649]\n",
      " [0.8197 0.1803]\n",
      " [0.5636 0.4364]\n",
      " [0.6858 0.3142]\n",
      " [0.1473 0.8527]\n",
      " [0.8112 0.1888]\n",
      " [0.5892 0.4108]\n",
      " [0.6222 0.3778]\n",
      " [0.4374 0.5626]\n",
      " [0.2404 0.7596]\n",
      " [0.5556 0.4444]\n",
      " [0.728  0.272 ]\n",
      " [0.248  0.752 ]\n",
      " [0.7757 0.2243]\n",
      " [0.7267 0.2733]\n",
      " [0.1716 0.8284]\n",
      " [0.9046 0.0954]\n",
      " [0.2807 0.7193]\n",
      " [0.2731 0.7269]\n",
      " [0.5242 0.4758]\n",
      " [0.4715 0.5285]\n",
      " [0.3951 0.6049]\n",
      " [0.6585 0.3415]\n",
      " [0.686  0.314 ]\n",
      " [0.2174 0.7826]\n",
      " [0.8766 0.1234]\n",
      " [0.7003 0.2997]\n",
      " [0.2228 0.7772]\n",
      " [0.7419 0.2581]\n",
      " [0.4771 0.5229]\n",
      " [0.3182 0.6818]\n",
      " [0.8737 0.1263]\n",
      " [0.4149 0.5851]\n",
      " [0.491  0.509 ]\n",
      " [0.3494 0.6506]\n",
      " [0.6583 0.3417]\n",
      " [0.6746 0.3254]\n",
      " [0.7461 0.2539]\n",
      " [0.2897 0.7103]\n",
      " [0.7521 0.2479]\n",
      " [0.7114 0.2886]\n",
      " [0.7225 0.2775]\n",
      " [0.1621 0.8379]\n",
      " [0.3909 0.6091]\n",
      " [0.7401 0.2599]\n",
      " [0.6006 0.3994]\n",
      " [0.5899 0.4101]\n",
      " [0.2098 0.7902]\n",
      " [0.4549 0.5451]\n",
      " [0.4606 0.5394]\n",
      " [0.7266 0.2734]\n",
      " [0.6588 0.3412]\n",
      " [0.3941 0.6059]\n",
      " [0.3654 0.6346]\n",
      " [0.8455 0.1545]\n",
      " [0.4956 0.5044]\n",
      " [0.7984 0.2016]\n",
      " [0.5875 0.4125]\n",
      " [0.6463 0.3537]\n",
      " [0.3194 0.6806]\n",
      " [0.4299 0.5701]\n",
      " [0.2277 0.7723]\n",
      " [0.649  0.351 ]\n",
      " [0.5886 0.4114]\n",
      " [0.4201 0.5799]\n",
      " [0.4992 0.5008]\n",
      " [0.5974 0.4026]\n",
      " [0.3449 0.6551]\n",
      " [0.1491 0.8509]\n",
      " [0.5149 0.4851]\n",
      " [0.6272 0.3728]\n",
      " [0.7391 0.2609]\n",
      " [0.7353 0.2647]\n",
      " [0.6242 0.3758]\n",
      " [0.4471 0.5529]\n",
      " [0.6344 0.3656]\n",
      " [0.6693 0.3307]\n",
      " [0.417  0.583 ]\n",
      " [0.5242 0.4758]\n",
      " [0.3057 0.6943]\n",
      " [0.9288 0.0712]\n",
      " [0.8657 0.1343]\n",
      " [0.3323 0.6677]\n",
      " [0.432  0.568 ]\n",
      " [0.6435 0.3565]\n",
      " [0.6236 0.3764]\n",
      " [0.8463 0.1537]\n",
      " [0.1582 0.8418]\n",
      " [0.858  0.142 ]\n",
      " [0.2099 0.7901]\n",
      " [0.5296 0.4704]\n",
      " [0.5342 0.4658]\n",
      " [0.3436 0.6564]\n",
      " [0.2451 0.7549]\n",
      " [0.3265 0.6735]\n",
      " [0.858  0.142 ]\n",
      " [0.8034 0.1966]\n",
      " [0.776  0.224 ]\n",
      " [0.4386 0.5614]\n",
      " [0.7515 0.2485]]\n"
     ]
    }
   ],
   "source": [
    "X_test = X_validation#.drop('y', axis=1).astype(\"string\")\n",
    "test_pool = Pool(data=X_test, cat_features=cat_features)\n",
    "predictions = best_model.predict_proba(test_pool)\n",
    "print('Predictoins:')\n",
    "print(predictions)"
   ]
  },
  {
   "cell_type": "code",
   "execution_count": 85,
   "metadata": {},
   "outputs": [],
   "source": [
    "y_true = y_validation#pd.DataFrame(test_df.y)\n",
    "y_pred = best_model.predict(test_pool)"
   ]
  },
  {
   "cell_type": "code",
   "execution_count": 86,
   "metadata": {},
   "outputs": [
    {
     "name": "stdout",
     "output_type": "stream",
     "text": [
      "0.46153846153846156\n",
      "0.41221374045801523\n",
      "0.45\n",
      "0.38028169014084506\n"
     ]
    }
   ],
   "source": [
    "from sklearn.metrics import accuracy_score, f1_score, precision_score, recall_score\n",
    "print(accuracy_score(y_true, y_pred))\n",
    "print(f1_score(y_true, y_pred))\n",
    "print(precision_score(y_true, y_pred))\n",
    "print(recall_score(y_true, y_pred))"
   ]
  },
  {
   "cell_type": "code",
   "execution_count": 33,
   "metadata": {},
   "outputs": [
    {
     "data": {
      "text/html": [
       "<div>\n",
       "<style scoped>\n",
       "    .dataframe tbody tr th:only-of-type {\n",
       "        vertical-align: middle;\n",
       "    }\n",
       "\n",
       "    .dataframe tbody tr th {\n",
       "        vertical-align: top;\n",
       "    }\n",
       "\n",
       "    .dataframe thead th {\n",
       "        text-align: right;\n",
       "    }\n",
       "</style>\n",
       "<table border=\"1\" class=\"dataframe\">\n",
       "  <thead>\n",
       "    <tr style=\"text-align: right;\">\n",
       "      <th></th>\n",
       "      <th>Feature Id</th>\n",
       "      <th>Importances</th>\n",
       "    </tr>\n",
       "  </thead>\n",
       "  <tbody>\n",
       "    <tr>\n",
       "      <th>0</th>\n",
       "      <td>p2_saved_by_teammate_per_round</td>\n",
       "      <td>27.808112</td>\n",
       "    </tr>\n",
       "    <tr>\n",
       "      <th>1</th>\n",
       "      <td>p1_total_opening_kills</td>\n",
       "      <td>22.910313</td>\n",
       "    </tr>\n",
       "    <tr>\n",
       "      <th>2</th>\n",
       "      <td>p5_kills_per_round</td>\n",
       "      <td>15.183250</td>\n",
       "    </tr>\n",
       "    <tr>\n",
       "      <th>3</th>\n",
       "      <td>p5_saved_teammates_per_round</td>\n",
       "      <td>13.921122</td>\n",
       "    </tr>\n",
       "    <tr>\n",
       "      <th>4</th>\n",
       "      <td>p2_maps_played</td>\n",
       "      <td>11.436820</td>\n",
       "    </tr>\n",
       "    <tr>\n",
       "      <th>...</th>\n",
       "      <td>...</td>\n",
       "      <td>...</td>\n",
       "    </tr>\n",
       "    <tr>\n",
       "      <th>115</th>\n",
       "      <td>p5_total_opening_kills</td>\n",
       "      <td>0.000000</td>\n",
       "    </tr>\n",
       "    <tr>\n",
       "      <th>116</th>\n",
       "      <td>p5_total_opening_deaths</td>\n",
       "      <td>0.000000</td>\n",
       "    </tr>\n",
       "    <tr>\n",
       "      <th>117</th>\n",
       "      <td>p5_opening_kill_ratio</td>\n",
       "      <td>0.000000</td>\n",
       "    </tr>\n",
       "    <tr>\n",
       "      <th>118</th>\n",
       "      <td>p5_opening_kill_rating</td>\n",
       "      <td>0.000000</td>\n",
       "    </tr>\n",
       "    <tr>\n",
       "      <th>119</th>\n",
       "      <td>p5_team_win_percent_after_first_kill</td>\n",
       "      <td>0.000000</td>\n",
       "    </tr>\n",
       "  </tbody>\n",
       "</table>\n",
       "<p>120 rows × 2 columns</p>\n",
       "</div>"
      ],
      "text/plain": [
       "                               Feature Id  Importances\n",
       "0          p2_saved_by_teammate_per_round    27.808112\n",
       "1                  p1_total_opening_kills    22.910313\n",
       "2                      p5_kills_per_round    15.183250\n",
       "3            p5_saved_teammates_per_round    13.921122\n",
       "4                          p2_maps_played    11.436820\n",
       "..                                    ...          ...\n",
       "115                p5_total_opening_kills     0.000000\n",
       "116               p5_total_opening_deaths     0.000000\n",
       "117                 p5_opening_kill_ratio     0.000000\n",
       "118                p5_opening_kill_rating     0.000000\n",
       "119  p5_team_win_percent_after_first_kill     0.000000\n",
       "\n",
       "[120 rows x 2 columns]"
      ]
     },
     "execution_count": 33,
     "metadata": {},
     "output_type": "execute_result"
    }
   ],
   "source": [
    "best_model.get_feature_importance(prettified=True)"
   ]
  },
  {
   "cell_type": "code",
   "execution_count": 79,
   "metadata": {},
   "outputs": [],
   "source": [
    "my_best_model = best_model"
   ]
  },
  {
   "cell_type": "code",
   "execution_count": 87,
   "metadata": {},
   "outputs": [
    {
     "ename": "CatBoostError",
     "evalue": "catboost/libs/model/model_import_interface.h:19: Model file doesn't exist: catboost_model.bin",
     "output_type": "error",
     "traceback": [
      "\u001b[0;31m---------------------------------------------------------------------------\u001b[0m",
      "\u001b[0;31mCatBoostError\u001b[0m                             Traceback (most recent call last)",
      "Cell \u001b[0;32mIn[87], line 1\u001b[0m\n\u001b[0;32m----> 1\u001b[0m my_best_model\u001b[39m.\u001b[39;49mload_model(\u001b[39m'\u001b[39;49m\u001b[39mcatboost_model.bin\u001b[39;49m\u001b[39m'\u001b[39;49m)\n\u001b[1;32m      2\u001b[0m \u001b[39mprint\u001b[39m(my_best_model\u001b[39m.\u001b[39mget_params())\n\u001b[1;32m      3\u001b[0m \u001b[39mprint\u001b[39m(my_best_model\u001b[39m.\u001b[39mrandom_seed_)\n",
      "File \u001b[0;32m~/anaconda3/envs/cs_go/lib/python3.10/site-packages/catboost/core.py:3361\u001b[0m, in \u001b[0;36mCatBoost.load_model\u001b[0;34m(self, fname, format, stream, blob)\u001b[0m\n\u001b[1;32m   3358\u001b[0m     \u001b[39mraise\u001b[39;00m CatBoostError(\u001b[39m\"\u001b[39m\u001b[39mExactly one of fname/stream/blob arguments mustn\u001b[39m\u001b[39m'\u001b[39m\u001b[39mt be None\u001b[39m\u001b[39m\"\u001b[39m)\n\u001b[1;32m   3360\u001b[0m \u001b[39mif\u001b[39;00m fname \u001b[39mis\u001b[39;00m \u001b[39mnot\u001b[39;00m \u001b[39mNone\u001b[39;00m:\n\u001b[0;32m-> 3361\u001b[0m     \u001b[39mself\u001b[39;49m\u001b[39m.\u001b[39;49m_load_model(fname, \u001b[39mformat\u001b[39;49m)\n\u001b[1;32m   3362\u001b[0m \u001b[39melif\u001b[39;00m stream \u001b[39mis\u001b[39;00m \u001b[39mnot\u001b[39;00m \u001b[39mNone\u001b[39;00m:\n\u001b[1;32m   3363\u001b[0m     \u001b[39mself\u001b[39m\u001b[39m.\u001b[39m_load_from_stream(stream)\n",
      "File \u001b[0;32m~/anaconda3/envs/cs_go/lib/python3.10/site-packages/catboost/core.py:1855\u001b[0m, in \u001b[0;36m_CatBoostBase._load_model\u001b[0;34m(self, model_file, format)\u001b[0m\n\u001b[1;32m   1852\u001b[0m \u001b[39mif\u001b[39;00m \u001b[39mnot\u001b[39;00m \u001b[39misinstance\u001b[39m(model_file, PATH_TYPES):\n\u001b[1;32m   1853\u001b[0m     \u001b[39mraise\u001b[39;00m CatBoostError(\u001b[39m\"\u001b[39m\u001b[39mInvalid fname type=\u001b[39m\u001b[39m{}\u001b[39;00m\u001b[39m: must be str() or pathlib.Path().\u001b[39m\u001b[39m\"\u001b[39m\u001b[39m.\u001b[39mformat(\u001b[39mtype\u001b[39m(model_file)))\n\u001b[0;32m-> 1855\u001b[0m \u001b[39mself\u001b[39;49m\u001b[39m.\u001b[39;49m_object\u001b[39m.\u001b[39;49m_load_model(model_file, \u001b[39mformat\u001b[39;49m)\n\u001b[1;32m   1856\u001b[0m \u001b[39mself\u001b[39m\u001b[39m.\u001b[39m_set_trained_model_attributes()\n\u001b[1;32m   1857\u001b[0m \u001b[39mfor\u001b[39;00m key, value \u001b[39min\u001b[39;00m iteritems(\u001b[39mself\u001b[39m\u001b[39m.\u001b[39m_get_params()):\n",
      "File \u001b[0;32m_catboost.pyx:4991\u001b[0m, in \u001b[0;36m_catboost._CatBoost._load_model\u001b[0;34m()\u001b[0m\n",
      "File \u001b[0;32m_catboost.pyx:4994\u001b[0m, in \u001b[0;36m_catboost._CatBoost._load_model\u001b[0;34m()\u001b[0m\n",
      "\u001b[0;31mCatBoostError\u001b[0m: catboost/libs/model/model_import_interface.h:19: Model file doesn't exist: catboost_model.bin"
     ]
    }
   ],
   "source": [
    "my_best_model.load_model('catboost_model.bin')\n",
    "print(my_best_model.get_params())\n",
    "print(my_best_model.random_seed_)"
   ]
  }
 ],
 "metadata": {
  "kernelspec": {
   "display_name": "Python 3.10.0 ('cs_go')",
   "language": "python",
   "name": "python3"
  },
  "language_info": {
   "codemirror_mode": {
    "name": "ipython",
    "version": 3
   },
   "file_extension": ".py",
   "mimetype": "text/x-python",
   "name": "python",
   "nbconvert_exporter": "python",
   "pygments_lexer": "ipython3",
   "version": "3.10.0"
  },
  "orig_nbformat": 4,
  "vscode": {
   "interpreter": {
    "hash": "cc860880643343b238be6367c3f6e1d25794f487e0b63a85900a8bf2ac1cefd9"
   }
  }
 },
 "nbformat": 4,
 "nbformat_minor": 2
}
